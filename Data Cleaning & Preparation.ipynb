{
 "cells": [
  {
   "cell_type": "markdown",
   "id": "8e09e2d0",
   "metadata": {},
   "source": [
    "# Combining SHHS1 and SHHS2"
   ]
  },
  {
   "cell_type": "code",
   "execution_count": 1,
   "id": "662b98dd",
   "metadata": {},
   "outputs": [],
   "source": [
    "import pandas as pd\n",
    "shhs1 = pd.read_csv('shhs1-hrv-summary-0.20.0 (1).csv')\n",
    "shhs2 = pd.read_csv('shhs2-hrv-summary-0.20.0 (1).csv')"
   ]
  },
  {
   "cell_type": "code",
   "execution_count": 2,
   "id": "c16a0f1a",
   "metadata": {},
   "outputs": [],
   "source": [
    "shhs = pd.concat([shhs1, shhs2[~shhs2['nsrrid'].isin(shhs1['nsrrid'])]])"
   ]
  },
  {
   "cell_type": "code",
   "execution_count": 15,
   "id": "723277f9",
   "metadata": {},
   "outputs": [
    {
     "data": {
      "text/plain": [
       "(498, 22)"
      ]
     },
     "execution_count": 15,
     "metadata": {},
     "output_type": "execute_result"
    }
   ],
   "source": [
    "shhs.shape"
   ]
  },
  {
   "cell_type": "code",
   "execution_count": 17,
   "id": "05f460eb",
   "metadata": {},
   "outputs": [
    {
     "data": {
      "text/plain": [
       "Index(['nsrrid', 'visitnumber', 'NN_RR', 'AVNN', 'IHR', 'SDNN', 'SDANN',\n",
       "       'SDNNIDX', 'rMSSD', 'pNN10', 'pNN20', 'pNN30', 'pNN40', 'pNN50',\n",
       "       'tot_pwr', 'ULF', 'VLF', 'LF', 'HF', 'LF_HF', 'LF_n', 'HF_n'],\n",
       "      dtype='object')"
      ]
     },
     "execution_count": 17,
     "metadata": {},
     "output_type": "execute_result"
    }
   ],
   "source": [
    "shhs.columns"
   ]
  },
  {
   "cell_type": "markdown",
   "id": "02c6f4df",
   "metadata": {},
   "source": [
    "# Adding Gender, Age, BMI"
   ]
  },
  {
   "cell_type": "code",
   "execution_count": 5,
   "id": "ae5695b6",
   "metadata": {},
   "outputs": [],
   "source": [
    "harmonized = pd.read_csv(\"shhs-harmonized-dataset-0.20.0 (1).csv\")"
   ]
  },
  {
   "cell_type": "code",
   "execution_count": 6,
   "id": "ce6d110e",
   "metadata": {},
   "outputs": [],
   "source": [
    "h1 = harmonized[harmonized['visitnumber'] == 1]\n",
    "h2 = harmonized[harmonized['visitnumber'] == 2]"
   ]
  },
  {
   "cell_type": "code",
   "execution_count": 7,
   "id": "b593b40f",
   "metadata": {},
   "outputs": [],
   "source": [
    "h = pd.concat([h1, h2[~h2['nsrrid'].isin(h1['nsrrid'])]])"
   ]
  },
  {
   "cell_type": "code",
   "execution_count": 8,
   "id": "3d8cecd1",
   "metadata": {},
   "outputs": [
    {
     "data": {
      "text/plain": [
       "Index(['nsrrid', 'visitnumber', 'nsrr_age', 'nsrr_age_gt89', 'nsrr_sex',\n",
       "       'nsrr_race', 'nsrr_ethnicity', 'nsrr_bmi', 'nsrr_bp_systolic',\n",
       "       'nsrr_bp_diastolic', 'nsrr_current_smoker', 'nsrr_ever_smoker',\n",
       "       'nsrr_ahi_hp3u', 'nsrr_ahi_hp3r_aasm15', 'nsrr_ahi_hp4u_aasm15',\n",
       "       'nsrr_ahi_hp4r', 'nsrr_ttldursp_f1', 'nsrr_phrnumar_f1',\n",
       "       'nsrr_flag_spsw', 'nsrr_ttleffsp_f1', 'nsrr_ttllatsp_f1',\n",
       "       'nsrr_ttlprdsp_s1sr', 'nsrr_ttldursp_s1sr', 'nsrr_ttldurws_f1',\n",
       "       'nsrr_pctdursp_s1', 'nsrr_pctdursp_s2', 'nsrr_pctdursp_s3',\n",
       "       'nsrr_pctdursp_sr', 'nsrr_ttlprdbd_f1'],\n",
       "      dtype='object')"
      ]
     },
     "execution_count": 8,
     "metadata": {},
     "output_type": "execute_result"
    }
   ],
   "source": [
    "harmonized.columns"
   ]
  },
  {
   "cell_type": "code",
   "execution_count": 10,
   "id": "050eac4b",
   "metadata": {},
   "outputs": [],
   "source": [
    "hcut = h[['nsrrid','nsrr_age','nsrr_age_gt89','nsrr_sex','nsrr_bmi','nsrr_ahi_hp3u', 'nsrr_ahi_hp3r_aasm15', 'nsrr_ahi_hp4u_aasm15',\n",
    "       'nsrr_ahi_hp4r','nsrr_current_smoker']]"
   ]
  },
  {
   "cell_type": "code",
   "execution_count": 11,
   "id": "339d3809",
   "metadata": {},
   "outputs": [],
   "source": [
    "step2 = shhs.merge(hcut, on='nsrrid')"
   ]
  },
  {
   "cell_type": "code",
   "execution_count": 12,
   "id": "c0fd7d57",
   "metadata": {},
   "outputs": [],
   "source": [
    "step2['nsrr_sex'] = step2['nsrr_sex'].apply(lambda x: 0 if x == 'male' else 1)"
   ]
  },
  {
   "cell_type": "code",
   "execution_count": 13,
   "id": "79ce9482",
   "metadata": {},
   "outputs": [],
   "source": [
    "step2['nsrr_age_gt89'] = step2['nsrr_age_gt89'].apply(lambda x: 0 if x == 'no' else 1)"
   ]
  },
  {
   "cell_type": "code",
   "execution_count": 14,
   "id": "9598fbda",
   "metadata": {},
   "outputs": [],
   "source": [
    "step2['nsrr_current_smoker'] = step2['nsrr_current_smoker'].apply(lambda x: 0 if x == 'no' else 1)"
   ]
  },
  {
   "cell_type": "markdown",
   "id": "6da353ab",
   "metadata": {},
   "source": [
    "# Adding Neck Circumference"
   ]
  },
  {
   "cell_type": "code",
   "execution_count": 18,
   "id": "f0b58b2a",
   "metadata": {},
   "outputs": [
    {
     "name": "stderr",
     "output_type": "stream",
     "text": [
      "C:\\Users\\Sachi\\AppData\\Local\\Temp\\ipykernel_26784\\645364817.py:1: DtypeWarning: Columns (1214) have mixed types. Specify dtype option on import or set low_memory=False.\n",
      "  shhs1dataset = pd.read_csv('shhs1-dataset-0.20.0 (1).csv')\n"
     ]
    }
   ],
   "source": [
    "shhs1dataset = pd.read_csv('shhs1-dataset-0.20.0 (1).csv')"
   ]
  },
  {
   "cell_type": "code",
   "execution_count": 19,
   "id": "c9c08816",
   "metadata": {},
   "outputs": [],
   "source": [
    "shhs1datasetcut = shhs1dataset[['nsrrid','neck20']]"
   ]
  },
  {
   "cell_type": "code",
   "execution_count": 20,
   "id": "c1ffdf40",
   "metadata": {},
   "outputs": [],
   "source": [
    "step3 = step2.merge(shhs1datasetcut, on = 'nsrrid')"
   ]
  },
  {
   "cell_type": "code",
   "execution_count": 21,
   "id": "7afb6129",
   "metadata": {},
   "outputs": [],
   "source": [
    "step3filter = step3[step3['visitnumber']==2]"
   ]
  },
  {
   "cell_type": "markdown",
   "id": "7d4a69a8",
   "metadata": {},
   "source": [
    "# Adding Sleep Apnea Label"
   ]
  },
  {
   "cell_type": "code",
   "execution_count": 22,
   "id": "fe3f5c5f",
   "metadata": {},
   "outputs": [],
   "source": [
    "def label_ahi_severity(ahi_value):\n",
    "    if ahi_value >= 5 and ahi_value < 15:\n",
    "        return 'Mild'\n",
    "    elif ahi_value >= 15 and ahi_value < 30:\n",
    "        return 'Moderate'\n",
    "    elif ahi_value >= 30:\n",
    "        return 'Severe'\n",
    "    else:\n",
    "        return 'No Apnea'  # You can adjust this if you want to handle other cases\n",
    "\n",
    "# Apply the function to create a new column 'ahi_severity'\n",
    "step4 = step3\n",
    "step4['ahi_severity'] = step4['nsrr_ahi_hp3u'].apply(label_ahi_severity)"
   ]
  },
  {
   "cell_type": "code",
   "execution_count": 23,
   "id": "91a85a0f",
   "metadata": {},
   "outputs": [],
   "source": [
    "step4['Apnea_digit'] = step4['ahi_severity'].apply(lambda x: 0 if x == 'No Apnea' else 1)"
   ]
  },
  {
   "cell_type": "code",
   "execution_count": 24,
   "id": "cbb70121",
   "metadata": {},
   "outputs": [],
   "source": [
    "step4['Apnea_Category'] = step4['ahi_severity'].apply(lambda x: 'No Apnea' if x == 'No Apnea' else 'Apnea')"
   ]
  },
  {
   "cell_type": "markdown",
   "id": "8acb0985",
   "metadata": {},
   "source": [
    "# Exclude Arrythmia & Events (can cause bias to HRV)"
   ]
  },
  {
   "cell_type": "code",
   "execution_count": 25,
   "id": "cb426bf8",
   "metadata": {},
   "outputs": [],
   "source": [
    "events = pd.read_csv(\"shhs-cvd-events-dataset-0.20.0 (1).csv\")"
   ]
  },
  {
   "cell_type": "code",
   "execution_count": 26,
   "id": "2f227feb",
   "metadata": {},
   "outputs": [],
   "source": [
    "unique_events_nsrrid = events['nsrrid'].unique()\n",
    "\n",
    "# Filter the sleeping records dataset based on nsrrid\n",
    "step5 = step4[~step4['nsrrid'].isin(unique_events_nsrrid)]"
   ]
  },
  {
   "cell_type": "code",
   "execution_count": 27,
   "id": "6a2849b9",
   "metadata": {},
   "outputs": [],
   "source": [
    "unique_events_nsrrid = pd.DataFrame(unique_events_nsrrid)"
   ]
  },
  {
   "cell_type": "code",
   "execution_count": 28,
   "id": "c6b0be21",
   "metadata": {},
   "outputs": [
    {
     "data": {
      "text/plain": [
       "Index(['nsrrid', 'visitnumber', 'NN_RR', 'AVNN', 'IHR', 'SDNN', 'SDANN',\n",
       "       'SDNNIDX', 'rMSSD', 'pNN10', 'pNN20', 'pNN30', 'pNN40', 'pNN50',\n",
       "       'tot_pwr', 'ULF', 'VLF', 'LF', 'HF', 'LF_HF', 'LF_n', 'HF_n',\n",
       "       'nsrr_age', 'nsrr_age_gt89', 'nsrr_sex', 'nsrr_bmi', 'nsrr_ahi_hp3u',\n",
       "       'nsrr_ahi_hp3r_aasm15', 'nsrr_ahi_hp4u_aasm15', 'nsrr_ahi_hp4r',\n",
       "       'nsrr_current_smoker', 'neck20', 'ahi_severity', 'Apnea_digit',\n",
       "       'Apnea_Category'],\n",
       "      dtype='object')"
      ]
     },
     "execution_count": 28,
     "metadata": {},
     "output_type": "execute_result"
    }
   ],
   "source": [
    "fixed = step5\n",
    "fixed.columns\n",
    "#fixed.to_excel('Data.xlsx')"
   ]
  }
 ],
 "metadata": {
  "kernelspec": {
   "display_name": "Python 3 (ipykernel)",
   "language": "python",
   "name": "python3"
  },
  "language_info": {
   "codemirror_mode": {
    "name": "ipython",
    "version": 3
   },
   "file_extension": ".py",
   "mimetype": "text/x-python",
   "name": "python",
   "nbconvert_exporter": "python",
   "pygments_lexer": "ipython3",
   "version": "3.10.9"
  }
 },
 "nbformat": 4,
 "nbformat_minor": 5
}
